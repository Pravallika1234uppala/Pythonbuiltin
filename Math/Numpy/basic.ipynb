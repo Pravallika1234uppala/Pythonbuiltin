{
 "cells": [
  {
   "cell_type": "markdown",
   "id": "e1e34b9c-f6d0-4d66-874a-5589c81469fc",
   "metadata": {},
   "source": [
    "## NUMPY"
   ]
  },
  {
   "cell_type": "markdown",
   "id": "6d2132fe-37cb-4a0a-9408-8289bcbc66f2",
   "metadata": {},
   "source": [
    "Numpy is fundamental to ML and DS.\n",
    "\n",
    "It is a special type of array."
   ]
  },
  {
   "cell_type": "markdown",
   "id": "17e235cc-a06f-43e8-b542-693196c28d2f",
   "metadata": {},
   "source": [
    "Basic list:"
   ]
  },
  {
   "cell_type": "code",
   "execution_count": 2,
   "id": "91fc743a-8b7b-489d-bedd-427f15fed329",
   "metadata": {},
   "outputs": [
    {
     "name": "stdout",
     "output_type": "stream",
     "text": [
      "[1, 3, 8, 7, 6, 5]\n",
      "8\n"
     ]
    }
   ],
   "source": [
    "basic_list = [1, 3, 8, 7, 6, 5]\n",
    "#To print list:\n",
    "print(basic_list)\n",
    "#To access items of list:\n",
    "print(basic_list[2])"
   ]
  },
  {
   "cell_type": "markdown",
   "id": "67134b5d-29f3-42e1-a909-e945baba1498",
   "metadata": {},
   "source": [
    "It is problem in lists for large sets of data as lists have a different data types.\n",
    "\n",
    "it is expensive computationally and costs a lot of money.\n",
    "\n",
    "So, instead of using lists we can use numpy array for massive amounts of data.\n",
    "\n",
    "Numpy array is just like a list but it's different."
   ]
  },
  {
   "cell_type": "code",
   "execution_count": 3,
   "id": "73641123-4a6c-4109-9e33-7ec025b7b656",
   "metadata": {},
   "outputs": [],
   "source": [
    "#first step for using numpy is by importing the library as it doesn't come with python \n",
    "#Need to install it like: pip install numpy (in terminal)\n",
    "import numpy as np\n"
   ]
  },
  {
   "cell_type": "markdown",
   "id": "7857cfd7-a14c-41ca-93bd-0dc489aa64d8",
   "metadata": {},
   "source": [
    "Numpy - Numeric Python\n",
    "\n",
    "Anything in numpy array has to be of same data type like all numbers/boolean etc..\n",
    "\n",
    "Datatype of numpy - ndarray\n",
    "\n",
    "which means n-dimensional array."
   ]
  },
  {
   "cell_type": "markdown",
   "id": "519d7944-3b45-41d2-80c7-16439f39863f",
   "metadata": {},
   "source": [
    "### Creating numpy explicitly:"
   ]
  },
  {
   "cell_type": "code",
   "execution_count": 4,
   "id": "6662c093-366e-4987-a06e-a154758d9473",
   "metadata": {},
   "outputs": [
    {
     "name": "stdout",
     "output_type": "stream",
     "text": [
      "[0 3 6 9 6 1]\n"
     ]
    }
   ],
   "source": [
    "arr_exp = np.array([0, 3, 6, 9, 6, 1])\n",
    "#np is alias name for numpy\n",
    "print(arr_exp)"
   ]
  },
  {
   "cell_type": "markdown",
   "id": "87fb7057-2618-4048-badd-7458630ba14b",
   "metadata": {},
   "source": [
    "The output kind of looks like lists."
   ]
  },
  {
   "cell_type": "markdown",
   "id": "11d42199-31cc-4eeb-bb72-01b73863ba66",
   "metadata": {},
   "source": [
    "### To see shape of Array:"
   ]
  },
  {
   "cell_type": "code",
   "execution_count": 5,
   "id": "89804903-901a-4036-89b7-362eace7c17f",
   "metadata": {},
   "outputs": [
    {
     "data": {
      "text/plain": [
       "(6,)"
      ]
     },
     "execution_count": 5,
     "metadata": {},
     "output_type": "execute_result"
    }
   ],
   "source": [
    "arr_exp.shape"
   ]
  },
  {
   "cell_type": "markdown",
   "id": "e55df050-1fd9-46e2-9e7c-ac8acf2273a2",
   "metadata": {},
   "source": [
    "it is like len function. it gives the shape or number of elements in array."
   ]
  },
  {
   "cell_type": "markdown",
   "id": "fbbada9c-2ed1-4ad1-951f-7ee1b7d0a85e",
   "metadata": {},
   "source": [
    "### Creating numpy using arange:"
   ]
  },
  {
   "cell_type": "markdown",
   "id": "7941b926-a7b4-42fe-a913-cbeed3251261",
   "metadata": {},
   "source": [
    "Syntax:\n",
    "\n",
    "arrayname = np.arange(stop)\n",
    "\n",
    "Default:\n",
    "start = 0\n",
    "step = 1"
   ]
  },
  {
   "cell_type": "code",
   "execution_count": 6,
   "id": "b6534c54-bd46-43ae-b788-2ee94f64649d",
   "metadata": {},
   "outputs": [
    {
     "name": "stdout",
     "output_type": "stream",
     "text": [
      "[0 1 2 3 4 5 6 7 8]\n"
     ]
    }
   ],
   "source": [
    "arr_range = np.arange(9)\n",
    "print(arr_range)"
   ]
  },
  {
   "cell_type": "markdown",
   "id": "e55ce1f0-afc5-4b36-8174-bc959be093c8",
   "metadata": {},
   "source": [
    "It prints all the elements till 9(excluding 9), default start is 0."
   ]
  },
  {
   "cell_type": "markdown",
   "id": "c8f8eef1-3d4d-4632-9b79-9a1d3f5b5667",
   "metadata": {},
   "source": [
    "### Creating numpy using arange with step:"
   ]
  },
  {
   "cell_type": "markdown",
   "id": "ccdeb0d6-d06e-4521-a4ca-ae52132a2c8f",
   "metadata": {},
   "source": [
    "Syntax:\n",
    "\n",
    "arrayname = np.arange(start, stop, step)"
   ]
  },
  {
   "cell_type": "code",
   "execution_count": 8,
   "id": "b921b50f-538d-4515-8602-0ba3293ae87c",
   "metadata": {},
   "outputs": [
    {
     "name": "stdout",
     "output_type": "stream",
     "text": [
      "[ 5  8 11 14]\n"
     ]
    }
   ],
   "source": [
    "arr_ranstep = np.arange(5, 15, 3)\n",
    "print(arr_ranstep)"
   ]
  },
  {
   "cell_type": "markdown",
   "id": "87f04e01-cffc-46eb-97bb-551026db9209",
   "metadata": {},
   "source": [
    "### Creating numpy array of zeros:"
   ]
  },
  {
   "cell_type": "markdown",
   "id": "daede153-2de4-42ad-b885-6b57db6601c3",
   "metadata": {},
   "source": [
    "Syntax:\n",
    "\n",
    "arrayname = np.zeros(n)\n",
    "\n",
    "default-0\n",
    "n- number of elements\n",
    "\n",
    "0. element of float type"
   ]
  },
  {
   "cell_type": "code",
   "execution_count": 9,
   "id": "76fa45ad-4dc3-403f-96d1-0dc060ed489f",
   "metadata": {},
   "outputs": [
    {
     "name": "stdout",
     "output_type": "stream",
     "text": [
      "[0. 0. 0. 0. 0. 0. 0.]\n"
     ]
    }
   ],
   "source": [
    "arr_zero = np.zeros(7)\n",
    "print(arr_zero)"
   ]
  },
  {
   "cell_type": "markdown",
   "id": "59b398c7-1155-4f10-9900-5eef28fed4f9",
   "metadata": {},
   "source": [
    "Till now we dealth with 1 - dimensional array.\n",
    "\n",
    "Now, we deal with multi dimensional array. Numpy is great at multi-dimensional array."
   ]
  },
  {
   "cell_type": "markdown",
   "id": "3d90402f-c76e-4237-a9ed-c8650e1ad94d",
   "metadata": {},
   "source": [
    "### Using Full function:"
   ]
  },
  {
   "cell_type": "markdown",
   "id": "1780a4d8-1b1a-44cf-9ea6-25e4f660fa06",
   "metadata": {},
   "source": [
    "Used for creating n dimensional array of all same value.\n",
    "\n",
    "Syntax:\n",
    "\n",
    "array_name = np.full((no. of elements), value of the element)"
   ]
  },
  {
   "cell_type": "code",
   "execution_count": 12,
   "id": "ad892979-aeef-42f7-ae50-c0b451959e0f",
   "metadata": {},
   "outputs": [
    {
     "name": "stdout",
     "output_type": "stream",
     "text": [
      "[7 7 7 7 7 7 7 7 7 7 7 7 7]\n"
     ]
    }
   ],
   "source": [
    "arr_full = np.full((13), 7)\n",
    "print(arr_full)"
   ]
  },
  {
   "cell_type": "markdown",
   "id": "cfaa7f1b-625f-4f8f-841c-56c2b1a037d5",
   "metadata": {},
   "source": [
    "## Creating Multi-dimensional Numpy array:"
   ]
  },
  {
   "cell_type": "markdown",
   "id": "efbd5bca-0514-468f-8bba-f3d178c55a43",
   "metadata": {},
   "source": [
    "### Multi-dimensional array of zeros:"
   ]
  },
  {
   "cell_type": "markdown",
   "id": "36bf6676-ff48-40d7-8fb4-a45338258fea",
   "metadata": {},
   "source": [
    "Syntax:\n",
    "\n",
    "array_name = np.zeros((no. of dimensions, no. of elements in each dimension)"
   ]
  },
  {
   "cell_type": "code",
   "execution_count": 11,
   "id": "936df697-ebd6-4392-9c88-0a1a98339ab8",
   "metadata": {},
   "outputs": [
    {
     "name": "stdout",
     "output_type": "stream",
     "text": [
      "[[0. 0. 0. 0. 0. 0. 0. 0.]\n",
      " [0. 0. 0. 0. 0. 0. 0. 0.]\n",
      " [0. 0. 0. 0. 0. 0. 0. 0.]\n",
      " [0. 0. 0. 0. 0. 0. 0. 0.]]\n"
     ]
    }
   ],
   "source": [
    "array_nzero = np.zeros((4, 8))\n",
    "print(array_nzero)"
   ]
  },
  {
   "cell_type": "markdown",
   "id": "51aafc39-1d11-489a-9e2d-60d12cac5e9e",
   "metadata": {},
   "source": [
    "### Multi-dimensional array using Full:"
   ]
  },
  {
   "cell_type": "markdown",
   "id": "d5ab9f25-6ced-4c10-b8d5-62fcda095002",
   "metadata": {},
   "source": [
    "Syntax:\n",
    "\n",
    "array_name = np.full((no. of dimensions, no. of elements in each dimension), value of element)\n"
   ]
  },
  {
   "cell_type": "code",
   "execution_count": 14,
   "id": "652b55a3-4ef5-4000-943d-10ed8cdbeede",
   "metadata": {},
   "outputs": [
    {
     "name": "stdout",
     "output_type": "stream",
     "text": [
      "[[9 9 9 9 9 9 9 9 9 9 9 9 9 9 9]\n",
      " [9 9 9 9 9 9 9 9 9 9 9 9 9 9 9]\n",
      " [9 9 9 9 9 9 9 9 9 9 9 9 9 9 9]\n",
      " [9 9 9 9 9 9 9 9 9 9 9 9 9 9 9]]\n"
     ]
    }
   ],
   "source": [
    "array_nfull = np.full((4, 15), 9)\n",
    "print(array_nfull)"
   ]
  },
  {
   "cell_type": "markdown",
   "id": "7fd10316-0358-44c4-8446-16cedf458d07",
   "metadata": {},
   "source": [
    "### Converting Python lists to np:"
   ]
  },
  {
   "cell_type": "code",
   "execution_count": 16,
   "id": "da18b80d-d29c-411c-b7ff-92b3b2c3b3d7",
   "metadata": {},
   "outputs": [
    {
     "name": "stdout",
     "output_type": "stream",
     "text": [
      "[9, 6, 4, 3, 1, 2]\n",
      "[9 6 4 3 1 2]\n"
     ]
    }
   ],
   "source": [
    "myList = [9, 6, 4, 3, 1, 2]\n",
    "print(myList)\n",
    "arr = np.array(myList)\n",
    "print(arr)"
   ]
  },
  {
   "cell_type": "markdown",
   "id": "4c221747-be43-4aee-935b-7a3765d04c30",
   "metadata": {},
   "source": [
    "### Accessing Elements from Numpy array:"
   ]
  },
  {
   "cell_type": "code",
   "execution_count": 18,
   "id": "89784b52-ce70-43dc-840c-f664e51b0eb7",
   "metadata": {},
   "outputs": [
    {
     "name": "stdout",
     "output_type": "stream",
     "text": [
      "1\n"
     ]
    }
   ],
   "source": [
    "#Same as list accessment:\n",
    "print(arr[4])"
   ]
  },
  {
   "cell_type": "code",
   "execution_count": null,
   "id": "f84d2475-b54b-4ffd-bddd-d41ec9c7cd9a",
   "metadata": {},
   "outputs": [],
   "source": []
  }
 ],
 "metadata": {
  "kernelspec": {
   "display_name": "Python 3 (ipykernel)",
   "language": "python",
   "name": "python3"
  },
  "language_info": {
   "codemirror_mode": {
    "name": "ipython",
    "version": 3
   },
   "file_extension": ".py",
   "mimetype": "text/x-python",
   "name": "python",
   "nbconvert_exporter": "python",
   "pygments_lexer": "ipython3",
   "version": "3.12.4"
  }
 },
 "nbformat": 4,
 "nbformat_minor": 5
}
