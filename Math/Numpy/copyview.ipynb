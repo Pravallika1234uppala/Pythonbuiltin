{
 "cells": [
  {
   "cell_type": "code",
   "execution_count": 1,
   "id": "17df589d-5481-4aa5-aa69-aaa7222ceff8",
   "metadata": {},
   "outputs": [],
   "source": [
    "import numpy as np"
   ]
  },
  {
   "cell_type": "markdown",
   "id": "0c9f814a-5e53-492d-9745-bdd4987f4a3c",
   "metadata": {},
   "source": [
    "## Copy Vs View:"
   ]
  },
  {
   "cell_type": "code",
   "execution_count": 2,
   "id": "c1d773f4-f465-4313-b74c-98ed842d1a6b",
   "metadata": {},
   "outputs": [
    {
     "name": "stdout",
     "output_type": "stream",
     "text": [
      "[0 1 2 3 4 5 6 7 8]\n"
     ]
    }
   ],
   "source": [
    "arr = np.array([0,1,2,3,4,5,6,7,8])\n",
    "print(arr)"
   ]
  },
  {
   "cell_type": "markdown",
   "id": "61225de2-0e9a-4919-b525-ab6fcf7f8d70",
   "metadata": {},
   "source": [
    "## Creating view:"
   ]
  },
  {
   "cell_type": "markdown",
   "id": "dd44afc7-36a6-4615-ba87-40cd61c94bff",
   "metadata": {},
   "source": [
    "When original is changed view gets changed too.\n",
    "\n",
    "it is copy but still is connected to original."
   ]
  },
  {
   "cell_type": "code",
   "execution_count": 3,
   "id": "74b5789f-0d91-4e7d-b7e4-c886b9f8f608",
   "metadata": {},
   "outputs": [
    {
     "name": "stdout",
     "output_type": "stream",
     "text": [
      "Original array: [0 1 2 3 4 5 6 7 8]\n",
      "Original view array: [0 1 2 3 4 5 6 7 8]\n",
      "Original array: [ 0 19  2  3  4  5  6  7  8]\n",
      "Original view array: [ 0 19  2  3  4  5  6  7  8]\n"
     ]
    }
   ],
   "source": [
    "arr_view = arr.view()\n",
    "\n",
    "print(f'Original array: {arr}')\n",
    "print(f'Original view array: {arr_view}')\n",
    "\n",
    "arr[1]=19\n",
    "\n",
    "print(f'Original array: {arr}')\n",
    "print(f'Original view array: {arr_view}')"
   ]
  },
  {
   "cell_type": "markdown",
   "id": "71fba28a-4619-4442-a8ca-962760e610cc",
   "metadata": {},
   "source": [
    "### Creating Copy:"
   ]
  },
  {
   "cell_type": "code",
   "execution_count": 5,
   "id": "f64e6734-c6b2-4126-895e-849dde26199e",
   "metadata": {},
   "outputs": [
    {
     "name": "stdout",
     "output_type": "stream",
     "text": [
      "Original array: [0 1 2 3 4 5 6 7 8]\n",
      "Original copy array: [0 1 2 3 4 5 6 7 8]\n",
      "Original array: [ 0 19  2  3  4  5  6  7  8]\n",
      "Original copy array: [0 1 2 3 4 5 6 7 8]\n"
     ]
    }
   ],
   "source": [
    "arr = np.array([0,1,2,3,4,5,6,7,8])\n",
    "arr_copy = arr.copy()\n",
    "\n",
    "print(f'Original array: {arr}')\n",
    "print(f'Original copy array: {arr_copy}')\n",
    "\n",
    "arr[1]=19\n",
    "\n",
    "print(f'Original array: {arr}')\n",
    "print(f'Original copy array: {arr_copy}')"
   ]
  },
  {
   "cell_type": "markdown",
   "id": "3388b4d0-faed-4ec5-b2c9-90c6c19e3bfa",
   "metadata": {},
   "source": [
    "### Changing Copy instead of Original:"
   ]
  },
  {
   "cell_type": "markdown",
   "id": "99226ac4-d9d5-40b8-b731-f24ec69dd809",
   "metadata": {},
   "source": [
    "Changing copy doesn't change original array."
   ]
  },
  {
   "cell_type": "code",
   "execution_count": 7,
   "id": "1606b97f-6b5a-47a8-a385-0c84a51e80db",
   "metadata": {},
   "outputs": [
    {
     "name": "stdout",
     "output_type": "stream",
     "text": [
      "Original array: [0 1 2 3 4 5 6 7 8]\n",
      "Original copy array: [0 1 2 3 4 5 6 7 8]\n",
      "Original array: [0 1 2 3 4 5 6 7 8]\n",
      "Original copy array: [ 0 19  2  3  4  5  6  7  8]\n"
     ]
    }
   ],
   "source": [
    "arr = np.array([0,1,2,3,4,5,6,7,8])\n",
    "arr_copy = arr.copy()\n",
    "\n",
    "print(f'Original array: {arr}')\n",
    "print(f'Original copy array: {arr_copy}')\n",
    "\n",
    "arr_copy[1]=19\n",
    "\n",
    "print(f'Original array: {arr}')\n",
    "print(f'Original copy array: {arr_copy}')\n",
    "\n"
   ]
  },
  {
   "cell_type": "markdown",
   "id": "29f9fd2f-0118-4158-ba32-9293457f0329",
   "metadata": {},
   "source": [
    "### Changing view instead of Original:"
   ]
  },
  {
   "cell_type": "markdown",
   "id": "61e47d9d-27e9-4980-b831-f5742a9ef149",
   "metadata": {},
   "source": [
    "Changing view changes original array."
   ]
  },
  {
   "cell_type": "code",
   "execution_count": 8,
   "id": "9c562e8a-42a2-4eae-95f7-0bd79ca0aa1b",
   "metadata": {},
   "outputs": [
    {
     "name": "stdout",
     "output_type": "stream",
     "text": [
      "Original array: [0 1 2 3 4 5 6 7 8]\n",
      "Original view array: [0 1 2 3 4 5 6 7 8]\n",
      "Original array: [ 0 19  2  3  4  5  6  7  8]\n",
      "Original view array: [ 0 19  2  3  4  5  6  7  8]\n"
     ]
    }
   ],
   "source": [
    "arr = np.array([0,1,2,3,4,5,6,7,8])\n",
    "arr_view = arr.view()\n",
    "\n",
    "print(f'Original array: {arr}')\n",
    "print(f'Original view array: {arr_view}')\n",
    "\n",
    "arr_view[1]=19\n",
    "\n",
    "print(f'Original array: {arr}')\n",
    "print(f'Original view array: {arr_view}')"
   ]
  },
  {
   "cell_type": "code",
   "execution_count": null,
   "id": "5e538d82-9ccc-43fa-84bb-99f31ac01a5a",
   "metadata": {},
   "outputs": [],
   "source": []
  }
 ],
 "metadata": {
  "kernelspec": {
   "display_name": "Python 3 (ipykernel)",
   "language": "python",
   "name": "python3"
  },
  "language_info": {
   "codemirror_mode": {
    "name": "ipython",
    "version": 3
   },
   "file_extension": ".py",
   "mimetype": "text/x-python",
   "name": "python",
   "nbconvert_exporter": "python",
   "pygments_lexer": "ipython3",
   "version": "3.12.4"
  }
 },
 "nbformat": 4,
 "nbformat_minor": 5
}
