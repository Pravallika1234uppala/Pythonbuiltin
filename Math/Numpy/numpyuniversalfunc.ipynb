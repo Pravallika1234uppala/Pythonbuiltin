{
 "cells": [
  {
   "cell_type": "code",
   "execution_count": 1,
   "id": "951f4961-573a-41a6-861f-72b77a6814c5",
   "metadata": {},
   "outputs": [],
   "source": [
    "import numpy as np"
   ]
  },
  {
   "cell_type": "code",
   "execution_count": 2,
   "id": "1a408d31-c86a-4a32-b489-957fc04d9699",
   "metadata": {},
   "outputs": [
    {
     "name": "stdout",
     "output_type": "stream",
     "text": [
      "[0 2 3 4 5 6 5 9 0 0 1]\n",
      "[-7 -5 -2  0  0  1  2  6  8]\n"
     ]
    }
   ],
   "source": [
    "pos_arr = np.array([0,2,3,4,5,6,5,9,0,0,1])\n",
    "all_arr = np.array([-7,-5,-2,0,0,1,2,6,8])\n",
    "\n",
    "print(pos_arr)\n",
    "print(all_arr)"
   ]
  },
  {
   "cell_type": "markdown",
   "id": "c908c235-ea99-49eb-adbf-b94f567e30c3",
   "metadata": {},
   "source": [
    "### Universal functions/ufunc:\n",
    "\n",
    "functions do something to each element in our numpy array."
   ]
  },
  {
   "cell_type": "markdown",
   "id": "2ffb5da3-3ca6-4a10-b40f-87a0c2a124e2",
   "metadata": {},
   "source": [
    "#### Finding square root of each element:"
   ]
  },
  {
   "cell_type": "code",
   "execution_count": 3,
   "id": "4cf89315-4cb6-41d2-9b8b-d671f61e847e",
   "metadata": {},
   "outputs": [
    {
     "name": "stdout",
     "output_type": "stream",
     "text": [
      "[0.         1.41421356 1.73205081 2.         2.23606798 2.44948974\n",
      " 2.23606798 3.         0.         0.         1.        ]\n",
      "[       nan        nan        nan 0.         0.         1.\n",
      " 1.41421356 2.44948974 2.82842712]\n"
     ]
    },
    {
     "name": "stderr",
     "output_type": "stream",
     "text": [
      "/var/folders/yc/xg70lc1d601f718q3_t6l2880000gq/T/ipykernel_10661/2685568630.py:3: RuntimeWarning: invalid value encountered in sqrt\n",
      "  print(np.sqrt(all_arr))\n"
     ]
    }
   ],
   "source": [
    "print(np.sqrt(pos_arr))\n",
    "print(np.sqrt(all_arr)) #No sqrt possible for negative values"
   ]
  },
  {
   "cell_type": "markdown",
   "id": "b6b3e283-a6e3-4312-957b-74540513b796",
   "metadata": {},
   "source": [
    "#### Finding absolute value of function:"
   ]
  },
  {
   "cell_type": "code",
   "execution_count": 4,
   "id": "bc24a7c0-7bd1-4e6a-8d98-7745980f0663",
   "metadata": {},
   "outputs": [
    {
     "name": "stdout",
     "output_type": "stream",
     "text": [
      "[7 5 2 0 0 1 2 6 8]\n"
     ]
    }
   ],
   "source": [
    "print(np.absolute(all_arr))"
   ]
  },
  {
   "cell_type": "markdown",
   "id": "ac833021-08b0-4fab-8ad2-dca38901f8e0",
   "metadata": {},
   "source": [
    "#### Finding exponents:"
   ]
  },
  {
   "cell_type": "code",
   "execution_count": 7,
   "id": "870676a6-b342-4237-8884-960789b50597",
   "metadata": {},
   "outputs": [
    {
     "name": "stdout",
     "output_type": "stream",
     "text": [
      "[1.00000000e+00 7.38905610e+00 2.00855369e+01 5.45981500e+01\n",
      " 1.48413159e+02 4.03428793e+02 1.48413159e+02 8.10308393e+03\n",
      " 1.00000000e+00 1.00000000e+00 2.71828183e+00]\n",
      "[9.11881966e-04 6.73794700e-03 1.35335283e-01 1.00000000e+00\n",
      " 1.00000000e+00 2.71828183e+00 7.38905610e+00 4.03428793e+02\n",
      " 2.98095799e+03]\n"
     ]
    }
   ],
   "source": [
    "print(np.exp(pos_arr))\n",
    "print(np.exp(all_arr))"
   ]
  },
  {
   "cell_type": "markdown",
   "id": "af43b8df-1ae7-4fd7-acdb-77f4f68e2719",
   "metadata": {},
   "source": [
    "#### Finding Min/Max:"
   ]
  },
  {
   "cell_type": "code",
   "execution_count": 8,
   "id": "da0be43c-899c-40e2-a401-50c6010b356f",
   "metadata": {},
   "outputs": [
    {
     "name": "stdout",
     "output_type": "stream",
     "text": [
      "8\n",
      "-7\n"
     ]
    }
   ],
   "source": [
    "print(np.max(all_arr))\n",
    "print(np.min(all_arr))"
   ]
  },
  {
   "cell_type": "markdown",
   "id": "cd50a030-70c7-43af-b745-86938be34bc8",
   "metadata": {},
   "source": [
    "#### Finding Sign: +ve/-ve"
   ]
  },
  {
   "cell_type": "code",
   "execution_count": 9,
   "id": "24f8d4cb-d192-4781-a390-b0a21fc6430e",
   "metadata": {},
   "outputs": [
    {
     "name": "stdout",
     "output_type": "stream",
     "text": [
      "[-1 -1 -1  0  0  1  1  1  1]\n"
     ]
    }
   ],
   "source": [
    "print(np.sign(all_arr))"
   ]
  },
  {
   "cell_type": "markdown",
   "id": "035c4a66-8248-4787-b8e8-01aea3a73bf9",
   "metadata": {},
   "source": [
    "#### Trig Functions:"
   ]
  },
  {
   "cell_type": "code",
   "execution_count": 17,
   "id": "c566b966-492c-47a4-b445-71e510fa91fa",
   "metadata": {},
   "outputs": [
    {
     "name": "stdout",
     "output_type": "stream",
     "text": [
      "[ 0.          0.90929743  0.14112001 -0.7568025  -0.95892427 -0.2794155\n",
      " -0.95892427  0.41211849  0.          0.          0.84147098]\n",
      "[-0.6569866   0.95892427 -0.90929743  0.          0.          0.84147098\n",
      "  0.90929743 -0.2794155   0.98935825]\n"
     ]
    }
   ],
   "source": [
    "print(np.sin(pos_arr))\n",
    "print(np.sin(all_arr))"
   ]
  },
  {
   "cell_type": "code",
   "execution_count": 18,
   "id": "e384ecb7-b1bf-41cf-91f6-ceefabb1a3ff",
   "metadata": {},
   "outputs": [
    {
     "name": "stdout",
     "output_type": "stream",
     "text": [
      "[ 0.         -2.18503986 -0.14254654  1.15782128 -3.38051501 -0.29100619\n",
      " -3.38051501 -0.45231566  0.          0.          1.55740772]\n",
      "[-0.87144798  3.38051501  2.18503986  0.          0.          1.55740772\n",
      " -2.18503986 -0.29100619 -6.79971146]\n"
     ]
    }
   ],
   "source": [
    "print(np.tan(pos_arr))\n",
    "print(np.tan(all_arr))"
   ]
  },
  {
   "cell_type": "code",
   "execution_count": 21,
   "id": "87148bd5-cc5b-42fe-aef5-dee6ca616d9f",
   "metadata": {},
   "outputs": [
    {
     "name": "stdout",
     "output_type": "stream",
     "text": [
      "[ 1.         -0.41614684 -0.9899925  -0.65364362  0.28366219  0.96017029\n",
      "  0.28366219 -0.91113026  1.          1.          0.54030231]\n",
      "[ 0.75390225  0.28366219 -0.41614684  1.          1.          0.54030231\n",
      " -0.41614684  0.96017029 -0.14550003]\n"
     ]
    }
   ],
   "source": [
    "print(np.cos(pos_arr))\n",
    "print(np.cos(all_arr))"
   ]
  },
  {
   "cell_type": "code",
   "execution_count": 22,
   "id": "0fccbb66-ed29-47da-951a-dc83b134130d",
   "metadata": {},
   "outputs": [
    {
     "name": "stdout",
     "output_type": "stream",
     "text": [
      "[      -inf 0.69314718 1.09861229 1.38629436 1.60943791 1.79175947\n",
      " 1.60943791 2.19722458       -inf       -inf 0.        ]\n",
      "[       nan        nan        nan       -inf       -inf 0.\n",
      " 0.69314718 1.79175947 2.07944154]\n"
     ]
    },
    {
     "name": "stderr",
     "output_type": "stream",
     "text": [
      "/var/folders/yc/xg70lc1d601f718q3_t6l2880000gq/T/ipykernel_10661/442442609.py:1: RuntimeWarning: divide by zero encountered in log\n",
      "  print(np.log(pos_arr))\n",
      "/var/folders/yc/xg70lc1d601f718q3_t6l2880000gq/T/ipykernel_10661/442442609.py:2: RuntimeWarning: divide by zero encountered in log\n",
      "  print(np.log(all_arr))\n",
      "/var/folders/yc/xg70lc1d601f718q3_t6l2880000gq/T/ipykernel_10661/442442609.py:2: RuntimeWarning: invalid value encountered in log\n",
      "  print(np.log(all_arr))\n"
     ]
    }
   ],
   "source": [
    "print(np.log(pos_arr))\n",
    "print(np.log(all_arr))"
   ]
  },
  {
   "cell_type": "code",
   "execution_count": null,
   "id": "842277a9-d3f3-49ce-ad81-71e69a78cbfc",
   "metadata": {},
   "outputs": [],
   "source": []
  }
 ],
 "metadata": {
  "kernelspec": {
   "display_name": "Python 3 (ipykernel)",
   "language": "python",
   "name": "python3"
  },
  "language_info": {
   "codemirror_mode": {
    "name": "ipython",
    "version": 3
   },
   "file_extension": ".py",
   "mimetype": "text/x-python",
   "name": "python",
   "nbconvert_exporter": "python",
   "pygments_lexer": "ipython3",
   "version": "3.12.4"
  }
 },
 "nbformat": 4,
 "nbformat_minor": 5
}
