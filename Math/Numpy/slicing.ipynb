{
 "cells": [
  {
   "cell_type": "markdown",
   "id": "1ec2e09a-81f1-4f6e-8a32-b29f2bd59771",
   "metadata": {},
   "source": [
    "import numpy as np"
   ]
  },
  {
   "cell_type": "code",
   "execution_count": 30,
   "id": "8c8cac2c-5852-455e-979f-a35c2bad5d7c",
   "metadata": {},
   "outputs": [
    {
     "name": "stdout",
     "output_type": "stream",
     "text": [
      "[[ 1  2  3  4  5  6  7  8]\n",
      " [ 0  9 10 11 12 13 14  8]\n",
      " [ 1  5  9  0  4  6  7  5]]\n",
      "[1 2 3 4 5 6 7 8]\n"
     ]
    }
   ],
   "source": [
    "#Creating basic numpy array:\n",
    "np_arr = np.array([[1,2,3,4,5,6,7,8], [0,9,10,11,12,13,14,8], [1,5,9,0,4,6,7,5]])\n",
    "oned_arr = np.array([1,2,3,4,5,6,7,8])\n",
    "print(np_arr)\n",
    "print(oned_arr)"
   ]
  },
  {
   "cell_type": "markdown",
   "id": "07524d73-996d-4004-8336-0996042c07f0",
   "metadata": {},
   "source": [
    "### Basic Slicing:"
   ]
  },
  {
   "cell_type": "markdown",
   "id": "2d64d989-0258-4ca6-84e0-8acacdf3e654",
   "metadata": {},
   "source": [
    "Syntax:\n",
    "\n",
    "array_name[no_of dimensions, no_of index]\n",
    "\n",
    "no_of dimensions = :(default-all dimensions)\n",
    "\n",
    "no_of index = elements slice mentioned = start:stop:step\n",
    "\n",
    "step = 1 (default)"
   ]
  },
  {
   "cell_type": "code",
   "execution_count": 31,
   "id": "af046e15-f31b-4e68-883f-544930ea300a",
   "metadata": {},
   "outputs": [
    {
     "name": "stdout",
     "output_type": "stream",
     "text": [
      "[[ 2  3  4  5]\n",
      " [ 9 10 11 12]\n",
      " [ 5  9  0  4]]\n",
      "[2 3 4 5]\n"
     ]
    }
   ],
   "source": [
    "#for all dimensions:\n",
    "print(np_arr[:,1:5])\n",
    "#for 1 dimension:\n",
    "print(oned_arr[1:5])"
   ]
  },
  {
   "cell_type": "code",
   "execution_count": 21,
   "id": "bbeeab6f-66f6-427a-aee8-5fc846b9d77e",
   "metadata": {},
   "outputs": [
    {
     "name": "stdout",
     "output_type": "stream",
     "text": [
      "[[ 4  5  6  7]\n",
      " [11 12 13 14]]\n"
     ]
    }
   ],
   "source": [
    "#for few dimensions:\n",
    "print(np_arr[0:2,3:7])"
   ]
  },
  {
   "cell_type": "markdown",
   "id": "abef19ae-d9b6-4a1c-8e78-812addfaed69",
   "metadata": {},
   "source": [
    "### Till the end of Array:"
   ]
  },
  {
   "cell_type": "code",
   "execution_count": 33,
   "id": "c390121d-1fcb-41ac-8d49-782219823b23",
   "metadata": {},
   "outputs": [
    {
     "name": "stdout",
     "output_type": "stream",
     "text": [
      "[[ 3  4  5  6  7  8]\n",
      " [10 11 12 13 14  8]\n",
      " [ 9  0  4  6  7  5]]\n",
      "[3 4 5 6 7 8]\n"
     ]
    }
   ],
   "source": [
    "print(np_arr[:,2:])\n",
    "#for 1 dimension:\n",
    "print(oned_arr[2:])"
   ]
  },
  {
   "cell_type": "code",
   "execution_count": 22,
   "id": "73100195-2f18-4da6-95f8-1b9d70dbfbcd",
   "metadata": {},
   "outputs": [
    {
     "name": "stdout",
     "output_type": "stream",
     "text": [
      "[[5 6 7 8]]\n"
     ]
    }
   ],
   "source": [
    "print(np_arr[0:1,4:])"
   ]
  },
  {
   "cell_type": "code",
   "execution_count": 17,
   "id": "a1dc51d4-1926-48c5-bb23-6c25a311c231",
   "metadata": {},
   "outputs": [
    {
     "name": "stdout",
     "output_type": "stream",
     "text": [
      "(3, 8)\n"
     ]
    }
   ],
   "source": [
    "print(np_arr.shape)"
   ]
  },
  {
   "cell_type": "markdown",
   "id": "12353f48-978b-405a-9bf4-04419f4d044c",
   "metadata": {},
   "source": [
    "### Slicing using negative index:"
   ]
  },
  {
   "cell_type": "code",
   "execution_count": 34,
   "id": "6f2048a9-29b7-417c-b6b8-d867abb0d788",
   "metadata": {},
   "outputs": [
    {
     "name": "stdout",
     "output_type": "stream",
     "text": [
      "[[ 3  4  5  6]\n",
      " [10 11 12 13]\n",
      " [ 9  0  4  6]]\n",
      "[3 4 5 6]\n"
     ]
    }
   ],
   "source": [
    "print(np_arr[:,-6:-2])\n",
    "#for 1 diemension:\n",
    "print(oned_arr[-6:-2])"
   ]
  },
  {
   "cell_type": "code",
   "execution_count": 25,
   "id": "4e68e603-8153-468f-88fd-84ab43b5b880",
   "metadata": {},
   "outputs": [
    {
     "name": "stdout",
     "output_type": "stream",
     "text": [
      "[[12 13 14]]\n"
     ]
    }
   ],
   "source": [
    "print(np_arr[1:2,-4:-1])"
   ]
  },
  {
   "cell_type": "markdown",
   "id": "c5200f2f-8ea4-4cc7-a178-d312d1c22f3b",
   "metadata": {},
   "source": [
    "### Slicing using step:"
   ]
  },
  {
   "cell_type": "code",
   "execution_count": 35,
   "id": "135fd485-065f-40bd-9aee-881b860ae4a6",
   "metadata": {},
   "outputs": [
    {
     "name": "stdout",
     "output_type": "stream",
     "text": [
      "[[ 2  5]\n",
      " [ 9 12]\n",
      " [ 5  4]]\n",
      "[2 5]\n"
     ]
    }
   ],
   "source": [
    "print(np_arr[:,1:6:3])\n",
    "#for 1 dimension:\n",
    "print(oned_arr[1:6:3])"
   ]
  },
  {
   "cell_type": "code",
   "execution_count": 36,
   "id": "b11944c6-55a3-4524-97b7-c0678c0c4a31",
   "metadata": {},
   "outputs": [
    {
     "name": "stdout",
     "output_type": "stream",
     "text": [
      "[[ 1  3  5  7]\n",
      " [ 0 10 12 14]\n",
      " [ 1  9  4  7]]\n",
      "[1 3 5 7]\n"
     ]
    }
   ],
   "source": [
    "#slicing on entire array:\n",
    "print(np_arr[:,::2])\n",
    "#for 1 dimension:\n",
    "print(oned_arr[::2])"
   ]
  },
  {
   "cell_type": "markdown",
   "id": "664023ff-bea4-4408-bad5-489b9e1596f5",
   "metadata": {},
   "source": [
    "### Pulling out from n-dimensional array:"
   ]
  },
  {
   "cell_type": "markdown",
   "id": "d5225072-fa4a-4335-9c2a-2f90c00fad51",
   "metadata": {},
   "source": [
    "Syntax:\n",
    "\n",
    "array_name[dimension_number, index_number]"
   ]
  },
  {
   "cell_type": "code",
   "execution_count": 38,
   "id": "7f7b813b-5164-4951-a747-74a8bab213c7",
   "metadata": {},
   "outputs": [
    {
     "name": "stdout",
     "output_type": "stream",
     "text": [
      "7\n"
     ]
    }
   ],
   "source": [
    "print(np_arr[2,6])"
   ]
  },
  {
   "cell_type": "markdown",
   "id": "719aa434-30e4-4617-b701-5a035a795e1f",
   "metadata": {},
   "source": [
    "Syntax:\n",
    "\n",
    "array_name[start_dimension:stop_dimension, start_index:stop_index])"
   ]
  },
  {
   "cell_type": "code",
   "execution_count": 39,
   "id": "0cc77a8f-3204-4417-8beb-9d64173923a3",
   "metadata": {},
   "outputs": [
    {
     "name": "stdout",
     "output_type": "stream",
     "text": [
      "[[11 12 13 14]\n",
      " [ 0  4  6  7]]\n"
     ]
    }
   ],
   "source": [
    "#Slicing n-d array:\n",
    "print(np_arr[1:,3:7])"
   ]
  },
  {
   "cell_type": "markdown",
   "id": "5075ea73-1f5e-480a-b99f-f011ab87a97f",
   "metadata": {},
   "source": [
    "Note: Slicing doesn't change array"
   ]
  },
  {
   "cell_type": "code",
   "execution_count": null,
   "id": "aad4bafb-daeb-479b-81fc-c2761c1be8a0",
   "metadata": {},
   "outputs": [],
   "source": []
  }
 ],
 "metadata": {
  "kernelspec": {
   "display_name": "Python 3 (ipykernel)",
   "language": "python",
   "name": "python3"
  },
  "language_info": {
   "codemirror_mode": {
    "name": "ipython",
    "version": 3
   },
   "file_extension": ".py",
   "mimetype": "text/x-python",
   "name": "python",
   "nbconvert_exporter": "python",
   "pygments_lexer": "ipython3",
   "version": "3.12.4"
  }
 },
 "nbformat": 4,
 "nbformat_minor": 5
}
